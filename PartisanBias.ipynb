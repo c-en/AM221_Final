{
 "cells": [
  {
   "cell_type": "code",
   "execution_count": 1,
   "metadata": {},
   "outputs": [],
   "source": [
    "import gurobipy as gb\n",
    "import numpy as np\n",
    "import csv"
   ]
  },
  {
   "cell_type": "code",
   "execution_count": 37,
   "metadata": {},
   "outputs": [
    {
     "name": "stdout",
     "output_type": "stream",
     "text": [
      "[[0. 0. 0. ... 0. 0. 0.]\n",
      " [0. 0. 0. ... 0. 0. 0.]\n",
      " [0. 0. 0. ... 0. 0. 0.]\n",
      " ...\n",
      " [0. 0. 0. ... 0. 0. 0.]\n",
      " [0. 0. 0. ... 0. 0. 0.]\n",
      " [0. 0. 0. ... 0. 0. 0.]]\n",
      "1.0\n"
     ]
    }
   ],
   "source": [
    "# basic voter data as numpy arrays - POPULATION, DEMOCRATS, REPUBLICANS, INDEPENDENTS\n",
    "# each town is assigned an index in the idx dict; e.g. to get index of BEDFORD use idx['BEDFORD']\n",
    "# to get population of BEDFORD use POP[idx['BEDFORD']]\n",
    "with open(\"Voter_Data_MA_CSV_Version_2.csv\", 'r') as votefile:\n",
    "    votereader = csv.reader(votefile, delimiter=',')\n",
    "    votereader.next()\n",
    "    POP = []\n",
    "    DEMS = []\n",
    "    REPS = []\n",
    "    INDS = []\n",
    "    idx = {}\n",
    "    i = 0\n",
    "    for row in votereader:\n",
    "        town = row[0]\n",
    "        idx[town] = i\n",
    "        i += 1\n",
    "        POP.append(int(row[-1]))\n",
    "        DEMS.append(int(row[-3]))\n",
    "        REPS.append(int(row[-2]))\n",
    "        INDS.append(POP[-1] - DEMS[-1] - REPS[-1])\n",
    "    POP = np.array(POP)\n",
    "    DEMS = np.array(DEMS)\n",
    "    REPS = np.array(REPS)\n",
    "    INDS = np.array(INDS)\n",
    "\n",
    "# pairwise distance data, as a numpy array\n",
    "# use idx dict to get indices\n",
    "with open(\"dist_pairs.csv\", 'r') as distfile:\n",
    "    # pairwise dist\n",
    "    distreader = csv.reader(distfile, delimiter=',')\n",
    "    DIST = np.zeros((i,i))\n",
    "    for row in distreader:\n",
    "        DIST[idx[row[0]]][idx[row[1]]] = float(row[-1])\n",
    "\n",
    "# pairwise adjacency matrix (1/0 for adjacent/not adj)\n",
    "# use idx dict to get indices\n",
    "with open ('Adjacencies.csv', 'r') as adjfile:\n",
    "    adjreader = csv.reader(adjfile, delimiter=',')\n",
    "    ADJ = np.zeros((i,i))\n",
    "    for row in adjreader:\n",
    "        i1 = idx[row[0]]\n",
    "        for t2 in row[1:]:\n",
    "            if not t2 == '':\n",
    "                ADJ[i1][idx[t2]] = 1"
   ]
  }
 ],
 "metadata": {
  "kernelspec": {
   "display_name": "Python 2",
   "language": "python",
   "name": "python2"
  },
  "language_info": {
   "codemirror_mode": {
    "name": "ipython",
    "version": 2
   },
   "file_extension": ".py",
   "mimetype": "text/x-python",
   "name": "python",
   "nbconvert_exporter": "python",
   "pygments_lexer": "ipython2",
   "version": "2.7.15rc1"
  }
 },
 "nbformat": 4,
 "nbformat_minor": 2
}
