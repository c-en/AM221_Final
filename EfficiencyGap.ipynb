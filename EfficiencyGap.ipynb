{
 "cells": [
  {
   "cell_type": "code",
   "execution_count": 1,
   "metadata": {},
   "outputs": [],
   "source": [
    "import gurobipy as gb\n",
    "import numpy as np\n",
    "import csv"
   ]
  },
  {
   "cell_type": "code",
   "execution_count": 2,
   "metadata": {},
   "outputs": [],
   "source": [
    "NUMDISTRICTS = 9\n",
    "\n",
    "# basic voter data as numpy arrays - POPULATION, DEMOCRATS, REPUBLICANS, INDEPENDENTS\n",
    "# each town is assigned an index in the idx dict; e.g. to get index of BEDFORD use idx['BEDFORD']\n",
    "# to get population of BEDFORD use POP[idx['BEDFORD']]\n",
    "with open(\"Voter_Data_MA_CSV_Version_2.csv\", 'r') as votefile:\n",
    "    votereader = csv.reader(votefile, delimiter=',')\n",
    "    votereader.next()\n",
    "    TOWNS = []\n",
    "    POP = []\n",
    "    DEMS = []\n",
    "    REPS = []\n",
    "    INDS = []\n",
    "    idx = {}\n",
    "    i = 0\n",
    "    for row in votereader:\n",
    "        town = row[0]\n",
    "        TOWNS.append(town)\n",
    "        idx[town] = i\n",
    "        i += 1\n",
    "        POP.append(int(row[-1]))\n",
    "        DEMS.append(int(row[-3]))\n",
    "        REPS.append(int(row[-2]))\n",
    "        INDS.append(POP[-1] - DEMS[-1] - REPS[-1])\n",
    "    POP = np.array(POP)\n",
    "    DEMS = np.array(DEMS)\n",
    "    REPS = np.array(REPS)\n",
    "    INDS = np.array(INDS)\n",
    "\n",
    "# pairwise distance data, as a numpy array\n",
    "# use idx dict to get indices\n",
    "with open(\"dist_pairs.csv\", 'r') as distfile:\n",
    "    # pairwise dist\n",
    "    distreader = csv.reader(distfile, delimiter=',')\n",
    "    DIST = np.zeros((i,i))\n",
    "    for row in distreader:\n",
    "        DIST[idx[row[0]]][idx[row[1]]] = float(row[-1])\n",
    "\n",
    "# pairwise adjacency matrix (1/0 for adjacent/not adj)\n",
    "# use idx dict to get indices\n",
    "with open ('Adjacencies.csv', 'r') as adjfile:\n",
    "    adjreader = csv.reader(adjfile, delimiter=',')\n",
    "    ADJ = np.zeros((i,i))\n",
    "    for row in adjreader:\n",
    "        i1 = idx[row[0]]\n",
    "        for t2 in row[1:]:\n",
    "            if not t2 == '':\n",
    "                ADJ[i1][idx[t2]] = 1"
   ]
  },
  {
   "cell_type": "code",
   "execution_count": 6,
   "metadata": {},
   "outputs": [
    {
     "data": {
      "text/plain": [
       "18.872601379360656"
      ]
     },
     "execution_count": 6,
     "metadata": {},
     "output_type": "execute_result"
    }
   ],
   "source": [
    "m = gb.model()"
   ]
  }
 ],
 "metadata": {
  "kernelspec": {
   "display_name": "Python 3",
   "language": "python",
   "name": "python3"
  },
  "language_info": {
   "codemirror_mode": {
    "name": "ipython",
    "version": 3
   },
   "file_extension": ".py",
   "mimetype": "text/x-python",
   "name": "python",
   "nbconvert_exporter": "python",
   "pygments_lexer": "ipython3",
   "version": "3.7.2"
  }
 },
 "nbformat": 4,
 "nbformat_minor": 2
}
